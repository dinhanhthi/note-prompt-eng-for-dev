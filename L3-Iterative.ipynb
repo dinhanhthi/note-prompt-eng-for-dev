{
 "cells": [
  {
   "cell_type": "markdown",
   "metadata": {},
   "source": [
    "# Iterative Prompt Development\n",
    "In this lesson, you'll iteratively analyze and refine your prompts to generate marketing copy from a product fact sheet."
   ]
  },
  {
   "cell_type": "markdown",
   "metadata": {},
   "source": [
    "## Setup\n",
    "### Load the API key and relevant Python libaries.\n",
    "In this course, we've provided some code that loads the OpenAI API key for you."
   ]
  },
  {
   "cell_type": "code",
   "execution_count": 4,
   "metadata": {},
   "outputs": [],
   "source": [
    "import openai\n",
    "import os\n",
    "from dotenv import load_dotenv, find_dotenv\n",
    "_ = load_dotenv(find_dotenv())\n",
    "\n",
    "openai.api_key  = os.getenv('OPENAI_API_KEY')"
   ]
  },
  {
   "cell_type": "code",
   "execution_count": 5,
   "metadata": {},
   "outputs": [],
   "source": [
    "def get_completion(prompt,model='gpt-3.5-turbo'):\n",
    "    messages=[{'role':'user', 'content': prompt}]\n",
    "    response = openai.ChatCompletion.create(\n",
    "    model=model,\n",
    "    messages =messages,\n",
    "    temperature=0, # degree of randomness of model's output\n",
    "    )\n",
    "    return response.choices[0].message[\"content\"]"
   ]
  },
  {
   "cell_type": "markdown",
   "metadata": {},
   "source": [
    "## Generate a marketing product description from a product fact sheet"
   ]
  },
  {
   "cell_type": "code",
   "execution_count": 6,
   "metadata": {},
   "outputs": [
    {
     "name": "stdout",
     "output_type": "stream",
     "text": [
      "Introducing our stunning mid-century inspired office chair, perfect for both home and business settings. Part of a beautiful family of office furniture, this chair is available in several shell color and base finish options, allowing you to customize it to your liking. Choose between plastic back and front upholstery or full upholstery in a variety of fabric and leather options.\n",
      "\n",
      "Constructed with a 5-wheel plastic coated aluminum base and a pneumatic chair adjust for easy raise/lower action, this chair is both sturdy and comfortable. It also comes with the option of soft or hard-floor casters and two choices of seat foam densities: medium or high.\n",
      "\n",
      "The chair is available with or without armrests, and the armrests come in 8 different positions. It is also qualified for contract use, making it a great addition to any office space.\n",
      "\n",
      "With a width of 53 cm, depth of 51 cm, and height of 80 cm, this chair is the perfect size for any workspace. The seat height is 44 cm and the seat depth is 41 cm.\n",
      "\n",
      "Made with high-quality materials, including a cast aluminum shell with modified nylon PA6/PA66 coating and HD36 foam seat, this chair is built to last. It is also made in Italy, ensuring the highest level of craftsmanship.\n",
      "\n",
      "Upgrade your office space with our beautiful mid-century inspired office chair.\n"
     ]
    }
   ],
   "source": [
    "fact_sheet_chair = \"\"\"\n",
    "OVERVIEW\n",
    "- Part of a beautiful family of mid-century inspired office furniture, \n",
    "including filing cabinets, desks, bookcases, meeting tables, and more.\n",
    "- Several options of shell color and base finishes.\n",
    "- Available with plastic back and front upholstery (SWC-100) \n",
    "or full upholstery (SWC-110) in 10 fabric and 6 leather options.\n",
    "- Base finish options are: stainless steel, matte black, \n",
    "gloss white, or chrome.\n",
    "- Chair is available with or without armrests.\n",
    "- Suitable for home or business settings.\n",
    "- Qualified for contract use.\n",
    "\n",
    "CONSTRUCTION\n",
    "- 5-wheel plastic coated aluminum base.\n",
    "- Pneumatic chair adjust for easy raise/lower action.\n",
    "\n",
    "DIMENSIONS\n",
    "- WIDTH 53 CM | 20.87”\n",
    "- DEPTH 51 CM | 20.08”\n",
    "- HEIGHT 80 CM | 31.50”\n",
    "- SEAT HEIGHT 44 CM | 17.32”\n",
    "- SEAT DEPTH 41 CM | 16.14”\n",
    "\n",
    "OPTIONS\n",
    "- Soft or hard-floor caster options.\n",
    "- Two choices of seat foam densities: \n",
    " medium (1.8 lb/ft3) or high (2.8 lb/ft3)\n",
    "- Armless or 8 position PU armrests \n",
    "\n",
    "MATERIALS\n",
    "SHELL BASE GLIDER\n",
    "- Cast Aluminum with modified nylon PA6/PA66 coating.\n",
    "- Shell thickness: 10 mm.\n",
    "SEAT\n",
    "- HD36 foam\n",
    "\n",
    "COUNTRY OF ORIGIN\n",
    "- Italy\n",
    "\"\"\"\n",
    "\n",
    "prompt = f\"\"\"\n",
    "Your task is to help a marketing team create a description for a retial website of a product based on technical fact sheet.\n",
    "\n",
    "Write a product description based on the information provided in technical specifications delimited by triple backticks.\n",
    "\n",
    "Technical specifications: ```{fact_sheet_chair}```\n",
    "\"\"\"\n",
    "\n",
    "response = get_completion(prompt)\n",
    "print(response)"
   ]
  },
  {
   "cell_type": "markdown",
   "metadata": {},
   "source": [
    "## Issue 1: The text is too long\n",
    "- Limit the number of words/sentences/characters."
   ]
  },
  {
   "cell_type": "code",
   "execution_count": 7,
   "metadata": {},
   "outputs": [
    {
     "name": "stdout",
     "output_type": "stream",
     "text": [
      "Introducing our mid-century inspired office chair, perfect for home or business settings. Available in a range of shell colors and base finishes, with or without armrests. Choose from 10 fabric and 6 leather options for full or plastic upholstery. Constructed with a 5-wheel base and pneumatic chair adjust for easy raise/lower action. Made in Italy.\n"
     ]
    }
   ],
   "source": [
    "prompt = f\"\"\"\n",
    "Your task is to help a marketing team create a description for a retial website of a product based on technical fact sheet.\n",
    "\n",
    "Write a product description based on the information provided in technical specifications delimited by triple backticks.\n",
    "\n",
    "Use at most 50 words. \n",
    "Technical specifications: ```{fact_sheet_chair}```\n",
    "\"\"\"\n",
    "response = get_completion(prompt)\n",
    "print(response)"
   ]
  },
  {
   "cell_type": "markdown",
   "metadata": {},
   "source": [
    "## Issue 2. Text focuses on the wrong details\n",
    "- Ask it to focus on the aspects that are relevant to the intended audience."
   ]
  },
  {
   "cell_type": "code",
   "execution_count": 8,
   "metadata": {},
   "outputs": [
    {
     "name": "stdout",
     "output_type": "stream",
     "text": [
      "Introducing the mid-century inspired office chair, perfect for home or business settings. Available in a range of shell colors and base finishes, with plastic or full upholstery options in fabric or leather. The 5-wheel plastic coated aluminum base and pneumatic chair adjust make for easy movement and comfort. Made in Italy with high-quality materials.\n"
     ]
    }
   ],
   "source": [
    "prompt = f\"\"\"\n",
    "Your task is to help a marketing team create a description for a retial website of a product based on technical fact sheet.\n",
    "\n",
    "Write a product description based on the information provided in technical specifications delimited by triple backticks.\n",
    "\n",
    "Description is intended for furniture retailers, so should be technical in nature and focus on the materials the product is constructed from.\n",
    "Use at most 50 words. \n",
    "Technical specifications: ```{fact_sheet_chair}```\n",
    "\"\"\"\n",
    "response = get_completion(prompt)\n",
    "print(response)"
   ]
  },
  {
   "cell_type": "code",
   "execution_count": 9,
   "metadata": {},
   "outputs": [
    {
     "name": "stdout",
     "output_type": "stream",
     "text": [
      "Introducing our mid-century inspired office chair, perfect for home or business settings. Available in a range of shell colors and base finishes, with plastic or full upholstery options in fabric or leather. The 5-wheel base is constructed from plastic coated aluminum, with a pneumatic chair adjust for easy height changes. Every 7-character product ID: SWC-100, SWC-110.\n"
     ]
    }
   ],
   "source": [
    "prompt = f\"\"\"\n",
    "Your task is to help a marketing team create a description for a retial website of a product based on technical fact sheet.\n",
    "\n",
    "Write a product description based on the information provided in technical specifications delimited by triple backticks.\n",
    "\n",
    "Description is intended for furniture retailers, so should be technical in nature and focus on the materials the product is constructed from.\n",
    "\n",
    "At the end of the description, include every 7-character product ID in the technical specification.\n",
    "Use at most 50 words. \n",
    "Technical specifications: ```{fact_sheet_chair}```\n",
    "\"\"\"\n",
    "response = get_completion(prompt)\n",
    "print(response)"
   ]
  },
  {
   "cell_type": "markdown",
   "metadata": {},
   "source": [
    "## Issue 3. Description needs a table of dimensions\n",
    "- Ask it to extract information and organize it in a table."
   ]
  },
  {
   "cell_type": "code",
   "execution_count": 10,
   "metadata": {},
   "outputs": [
    {
     "name": "stdout",
     "output_type": "stream",
     "text": [
      "<div>\n",
      "<h2>Mid-Century Inspired Office Chair</h2>\n",
      "<p>Part of a beautiful family of mid-century inspired office furniture, this chair is the perfect addition to any home or business setting. With several options of shell color and base finishes, you can customize the look to fit your style. The chair is available with plastic back and front upholstery (SWC-100) or full upholstery (SWC-110) in 10 fabric and 6 leather options. The base finish options are: stainless steel, matte black, gloss white, or chrome. You can also choose to have armrests or not. This chair is qualified for contract use, making it a great choice for any office setting.</p>\n",
      "<h3>Materials</h3>\n",
      "<ul>\n",
      "<li>SHELL BASE GLIDER: Cast Aluminum with modified nylon PA6/PA66 coating. Shell thickness: 10 mm.</li>\n",
      "<li>SEAT: HD36 foam</li>\n",
      "</ul>\n",
      "<h3>Options</h3>\n",
      "<ul>\n",
      "<li>Soft or hard-floor caster options.</li>\n",
      "<li>Two choices of seat foam densities: medium (1.8 lb/ft3) or high (2.8 lb/ft3)</li>\n",
      "<li>Armless or 8 position PU armrests</li>\n",
      "</ul>\n",
      "<h3>Product Dimensions</h3>\n",
      "<table>\n",
      "<tr>\n",
      "<th>Width</th>\n",
      "<td>53 cm | 20.87\"</td>\n",
      "</tr>\n",
      "<tr>\n",
      "<th>Depth</th>\n",
      "<td>51 cm | 20.08\"</td>\n",
      "</tr>\n",
      "<tr>\n",
      "<th>Height</th>\n",
      "<td>80 cm | 31.50\"</td>\n",
      "</tr>\n",
      "<tr>\n",
      "<th>Seat Height</th>\n",
      "<td>44 cm | 17.32\"</td>\n",
      "</tr>\n",
      "<tr>\n",
      "<th>Seat Depth</th>\n",
      "<td>41 cm | 16.14\"</td>\n",
      "</tr>\n",
      "</table>\n",
      "</div>\n",
      "\n",
      "Product IDs: SWC-100, SWC-110.\n"
     ]
    }
   ],
   "source": [
    "prompt = f\"\"\"\n",
    "Your task is to help a marketing team create a description for a retail website of a product based on a technical fact sheet.\n",
    "\n",
    "Write a product description based on the information provided in the technical specifications delimited by triple backticks.\n",
    "\n",
    "The description is intended for furniture retailers, so should be technical in nature and focus on the materials the product is constructed from.\n",
    "\n",
    "At the end of the description, include every 7-character Product ID in the technical specification.\n",
    "\n",
    "After the description, include a table that gives the product's dimensions. The table should have two columns.In the first column include the name of the dimension. \n",
    "In the second column include the measurements in inches only.\n",
    "\n",
    "Give the table the title 'Product Dimensions'.\n",
    "\n",
    "Format everything as HTML that can be used in a website. Place the description in a <div> element.\n",
    "\n",
    "Technical specifications: ```{fact_sheet_chair}```\n",
    "\"\"\"\n",
    "\n",
    "response = get_completion(prompt)\n",
    "print(response)"
   ]
  },
  {
   "cell_type": "code",
   "execution_count": 11,
   "metadata": {},
   "outputs": [],
   "source": [
    "from IPython.display import display, HTML"
   ]
  },
  {
   "cell_type": "code",
   "execution_count": 12,
   "metadata": {},
   "outputs": [
    {
     "data": {
      "text/html": [
       "<div>\n",
       "<h2>Mid-Century Inspired Office Chair</h2>\n",
       "<p>Part of a beautiful family of mid-century inspired office furniture, this chair is the perfect addition to any home or business setting. With several options of shell color and base finishes, you can customize the look to fit your style. The chair is available with plastic back and front upholstery (SWC-100) or full upholstery (SWC-110) in 10 fabric and 6 leather options. The base finish options are: stainless steel, matte black, gloss white, or chrome. You can also choose to have armrests or not. This chair is qualified for contract use, making it a great choice for any office setting.</p>\n",
       "<h3>Materials</h3>\n",
       "<ul>\n",
       "<li>SHELL BASE GLIDER: Cast Aluminum with modified nylon PA6/PA66 coating. Shell thickness: 10 mm.</li>\n",
       "<li>SEAT: HD36 foam</li>\n",
       "</ul>\n",
       "<h3>Options</h3>\n",
       "<ul>\n",
       "<li>Soft or hard-floor caster options.</li>\n",
       "<li>Two choices of seat foam densities: medium (1.8 lb/ft3) or high (2.8 lb/ft3)</li>\n",
       "<li>Armless or 8 position PU armrests</li>\n",
       "</ul>\n",
       "<h3>Product Dimensions</h3>\n",
       "<table>\n",
       "<tr>\n",
       "<th>Width</th>\n",
       "<td>53 cm | 20.87\"</td>\n",
       "</tr>\n",
       "<tr>\n",
       "<th>Depth</th>\n",
       "<td>51 cm | 20.08\"</td>\n",
       "</tr>\n",
       "<tr>\n",
       "<th>Height</th>\n",
       "<td>80 cm | 31.50\"</td>\n",
       "</tr>\n",
       "<tr>\n",
       "<th>Seat Height</th>\n",
       "<td>44 cm | 17.32\"</td>\n",
       "</tr>\n",
       "<tr>\n",
       "<th>Seat Depth</th>\n",
       "<td>41 cm | 16.14\"</td>\n",
       "</tr>\n",
       "</table>\n",
       "</div>\n",
       "\n",
       "Product IDs: SWC-100, SWC-110."
      ],
      "text/plain": [
       "<IPython.core.display.HTML object>"
      ]
     },
     "metadata": {},
     "output_type": "display_data"
    }
   ],
   "source": [
    "display(HTML(response))"
   ]
  },
  {
   "cell_type": "code",
   "execution_count": null,
   "metadata": {},
   "outputs": [],
   "source": []
  }
 ],
 "metadata": {
  "kernelspec": {
   "display_name": "Python 3 (ipykernel)",
   "language": "python",
   "name": "python3"
  },
  "language_info": {
   "codemirror_mode": {
    "name": "ipython",
    "version": 3
   },
   "file_extension": ".py",
   "mimetype": "text/x-python",
   "name": "python",
   "nbconvert_exporter": "python",
   "pygments_lexer": "ipython3",
   "version": "3.9.16"
  }
 },
 "nbformat": 4,
 "nbformat_minor": 2
}
